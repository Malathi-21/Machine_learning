{
 "cells": [
  {
   "cell_type": "code",
   "execution_count": 1,
   "metadata": {},
   "outputs": [],
   "source": [
    "import pandas as pd\n",
    "import pickle\n",
    "filename='Grid_ckd_KNN.sav'\n",
    "f1='classification_report_KNN.sav'\n",
    "f2='F1_KNN.sav'\n",
    "f3='roc_KNN.sav'"
   ]
  },
  {
   "cell_type": "code",
   "execution_count": 2,
   "metadata": {},
   "outputs": [],
   "source": [
    "sc_load=pickle.load(open('std_scaler_model.pkl','rb'))"
   ]
  },
  {
   "cell_type": "code",
   "execution_count": 3,
   "metadata": {},
   "outputs": [],
   "source": [
    "with open(filename, 'rb') as file:\n",
    "    loaded_model = pickle.load(file)\n",
    "\n",
    "with open(f1, 'rb') as file:\n",
    "    loaded_class_report = pickle.load(file)\n",
    "\n",
    "with open(f2, 'rb') as file:\n",
    "    loaded_f1_score = pickle.load(file)\n",
    "\n",
    "with open(f3, 'rb') as file:\n",
    "    loaded_roc_auc = pickle.load(file)"
   ]
  },
  {
   "cell_type": "code",
   "execution_count": 4,
   "metadata": {},
   "outputs": [],
   "source": [
    "age_input=float(input(\"age:\"))\n",
    "bp_input=float(input(\"bp:\"))\n",
    "al_input=int(input(\"al:\"))\n",
    "su_input=int(input(\"su:\"))\n",
    "bgr_input=float(input(\"bgr:\"))\n",
    "bu_input=float(input(\"bu:\"))\n",
    "sc_input=float(input(\"sc:\"))\n",
    "sod_input=float(input(\"sod:\"))\n",
    "pot_input=float(input(\"pot:\"))\n",
    "hrmo_input=float(input(\"hrmo:\"))\n",
    "pcv_input=int(input(\"pcv:\"))\n",
    "wc_input=float(input(\"wc:\"))\n",
    "rc_input=float(input(\"rc:\"))\n",
    "sg_b_input=int(input(\"sg_b:\"))\n",
    "sg_c_input=int(input(\"sg_c:\"))\n",
    "sg_d_input=int(input(\"sg_d:\"))\n",
    "sg_e_input=int(input(\"sg_e:\"))\n",
    "rbc_normal_input=float(input(\"rbc_normal:\"))\n",
    "pc_normal_input=int(input(\"pc_normal:\"))\n",
    "pcc_present_input=int(input(\"pcc_present:\"))\n",
    "ba_present_input=int(input(\"ba_present:\"))\n",
    "htn_yes_input=int(input(\"htn_yes:\"))\n",
    "dm_yes_input=int(input(\"dm_yes:\"))\n",
    "cad_yes_input=int(input(\"cad_yes:\"))\n",
    "appet_yes_input=int(input(\"appet_yes:\"))\n",
    "pe_yes_input=int(input(\"pe_yes:\"))\n",
    "ane_yes_input=int(input(\"ane_yes:\"))\n",
    "\n"
   ]
  },
  {
   "cell_type": "code",
   "execution_count": 5,
   "metadata": {},
   "outputs": [
    {
     "name": "stderr",
     "output_type": "stream",
     "text": [
      "C:\\Users\\Hp\\AppData\\Local\\Packages\\PythonSoftwareFoundation.Python.3.11_qbz5n2kfra8p0\\LocalCache\\local-packages\\Python311\\site-packages\\sklearn\\base.py:493: UserWarning: X does not have valid feature names, but StandardScaler was fitted with feature names\n",
      "  warnings.warn(\n",
      "C:\\Users\\Hp\\AppData\\Local\\Packages\\PythonSoftwareFoundation.Python.3.11_qbz5n2kfra8p0\\LocalCache\\local-packages\\Python311\\site-packages\\sklearn\\base.py:493: UserWarning: X does not have valid feature names, but KNeighborsClassifier was fitted with feature names\n",
      "  warnings.warn(\n"
     ]
    },
    {
     "data": {
      "text/plain": [
       "array([1])"
      ]
     },
     "execution_count": 5,
     "metadata": {},
     "output_type": "execute_result"
    }
   ],
   "source": [
    "loaded_model = pickle.load(open(\"finalized_grid_CKD_KNN.sav\", 'rb'))\n",
    "\n",
    "preinput=sc_load.transform([[age_input,bp_input,al_input,su_input,bgr_input,bu_input,sc_input,sod_input,pot_input,hrmo_input,pcv_input,wc_input,rc_input,sg_b_input,sg_c_input,sg_d_input,sg_e_input,rbc_normal_input,pc_normal_input,pcc_present_input,ba_present_input,htn_yes_input,dm_yes_input,cad_yes_input,appet_yes_input,pe_yes_input,ane_yes_input]])\n",
    "result=loaded_model.predict(preinput)\n",
    "result\n"
   ]
  }
 ],
 "metadata": {
  "kernelspec": {
   "display_name": "Python 3",
   "language": "python",
   "name": "python3"
  },
  "language_info": {
   "codemirror_mode": {
    "name": "ipython",
    "version": 3
   },
   "file_extension": ".py",
   "mimetype": "text/x-python",
   "name": "python",
   "nbconvert_exporter": "python",
   "pygments_lexer": "ipython3",
   "version": "3.11.9"
  }
 },
 "nbformat": 4,
 "nbformat_minor": 2
}
