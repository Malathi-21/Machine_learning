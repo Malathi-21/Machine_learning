{
 "cells": [
  {
   "cell_type": "code",
   "execution_count": 3,
   "metadata": {},
   "outputs": [],
   "source": [
    "import pickle\n",
    "filename='Grid_ckd_KNN.sav'\n",
    "f1='classification_report_KNN.sav'\n",
    "f2='F1_KNN.sav'\n",
    "f3='roc_KNN.sav'"
   ]
  },
  {
   "cell_type": "code",
   "execution_count": 4,
   "metadata": {},
   "outputs": [],
   "source": [
    "with open(filename, 'rb') as file:\n",
    "    loaded_model = pickle.load(file)\n",
    "\n",
    "with open(f1, 'rb') as file:\n",
    "    loaded_class_report = pickle.load(file)\n",
    "\n",
    "with open(f2, 'rb') as file:\n",
    "    loaded_f1_score = pickle.load(file)\n",
    "\n",
    "with open(f3, 'rb') as file:\n",
    "    loaded_roc_auc = pickle.load(file)"
   ]
  },
  {
   "cell_type": "code",
   "execution_count": null,
   "metadata": {},
   "outputs": [],
   "source": []
  }
 ],
 "metadata": {
  "kernelspec": {
   "display_name": "Python 3",
   "language": "python",
   "name": "python3"
  },
  "language_info": {
   "codemirror_mode": {
    "name": "ipython",
    "version": 3
   },
   "file_extension": ".py",
   "mimetype": "text/x-python",
   "name": "python",
   "nbconvert_exporter": "python",
   "pygments_lexer": "ipython3",
   "version": "3.11.9"
  }
 },
 "nbformat": 4,
 "nbformat_minor": 2
}
